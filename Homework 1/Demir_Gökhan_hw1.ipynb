{
  "nbformat": 4,
  "nbformat_minor": 0,
  "metadata": {
    "colab": {
      "name": "Demir_Gökhan_hw1",
      "provenance": [],
      "collapsed_sections": [],
      "toc_visible": true
    },
    "kernelspec": {
      "name": "python3",
      "display_name": "Python 3"
    }
  },
  "cells": [
    {
      "cell_type": "markdown",
      "metadata": {
        "id": "JD9gUM7WW8iT"
      },
      "source": [
        "# Homework 1: Strecthing Python Muscles\n",
        "\n",
        "\n",
        "*In the first homework, you are going to work on a set of Python exercises.*\n",
        "\n",
        "**Submission Instructions**\n",
        "\n",
        "---\n",
        "It is important that you follow the submission instructions. \n",
        "1. Copy this assignment notebook to your Drive. <font color = 'red'> `File` --> `Save a copy in Drive`</font>. Rename it as <font color = 'green'>`Lastname_Firstname_hw1`</font>.\n",
        "\n",
        "2. Write your solutions in the cells  marked <font color = 'green'>`# your code`</font>.\n",
        "\n",
        "3. Do not delete your outputs. They are essential for the grading. Make sure that cells containing your solutions are executed, and the results are displayed on the notebook.\n",
        "\n",
        "4. When you're done please submit your solutions as an <font color=\"red\">`.ipynb`</font> file. To do so:\n",
        "\n",
        "\n",
        "1.  Click on <font color=\"red\">`File`</font>  at the top left on the Colab screen, then click on <font color = 'red'>`Download .ipynb`</font>.\n",
        "2.   Then submit the downloaded <font color=\"red\">`.ipynb`</font> version of your work on SUCourse.\n",
        "\n",
        "\n",
        "For any question, you may send an email to the TAs and LAs.\n",
        "\n",
        "---\n",
        "\n",
        "**Important Note:**   \n",
        "In this homework, you are not allowed to use any libraries other than [`random`](https://docs.python.org/3/library/random.html). In addition, you may also use the [`pprint`](https://docs.python.org/3/library/pprint.html) library to produce better looking outputs."
      ]
    },
    {
      "cell_type": "markdown",
      "metadata": {
        "id": "wK0AhfSm417l"
      },
      "source": [
        "## Q1: Get to Know Your TAs\n",
        "\n",
        "In the cell below, you have three lists: names, surnames and mails. The information regarding your TAs are stored in these three separate lists. Moreover, the elements in the same index are associated to a particular TA. For instance, the elements at index 0 constitutes contact information for the first TA.\n",
        "\n",
        "- names[0] -> Rana Bengisu\n",
        "- surnames[0] -> Kalkan\n",
        "- mails[0] -> \"ranakalkan@sabanciuniv.edu\"\n",
        "\n",
        "Here, your goal is to print the contact information of each TA.\n",
        "\n",
        "Write a function named `print_TAs_info` that takes the given lists with the signature below, and then prints the contact information of each TA in the format below.\n",
        "\n",
        "*Hint: You may use the `zip` function.*\n",
        "\n",
        "```py\n",
        ">>> print_TAs_info(names,surnames,mails)\n",
        "Rana Bengisu Kalkan: ranakalkan@sabanciuniv.edu\n",
        "Büşra Öz: boz@sabanciuniv.edu\n",
        "Mert Gürkan: mertgurkan@sabanciuniv.edu\n",
        "Hasan Alp Boz: bozhasan@sabanciuniv.edu\n",
        "```"
      ]
    },
    {
      "cell_type": "code",
      "metadata": {
        "id": "e924Yp97oXsP"
      },
      "source": [
        "names = [\"Rana Bengisu\", \"Büşra\", \"Mert\", \"Hasan Alp\"]\n",
        "surnames = [\"Kalkan\", \"Öz\", \"Gürkan\", \"Boz\"]\n",
        "mails = [\"ranakalkan@sabanciuniv.edu\", \"boz@sabanciuniv.edu\", \"mertgurkan@sabanciuniv.edu\", \"bozhasan@sabanciuniv.edu\"]"
      ],
      "execution_count": 97,
      "outputs": []
    },
    {
      "cell_type": "code",
      "metadata": {
        "id": "waAKTlsMTXdN",
        "outputId": "850da5b7-0b34-4b33-a3d1-01876fdf7877",
        "colab": {
          "base_uri": "https://localhost:8080/",
          "height": 85
        }
      },
      "source": [
        "def print_TAs_info(nameslist,surnameslist,mailslist):\n",
        "  for i in range(0,4):\n",
        "    print(\"{} {}: {}\".format(nameslist[i],surnameslist[i],mailslist[i]))\n",
        "\n",
        "print_TAs_info(names,surnames,mails)"
      ],
      "execution_count": 120,
      "outputs": [
        {
          "output_type": "stream",
          "text": [
            "Rana Bengisu Kalkan: ranakalkan@sabanciuniv.edu\n",
            "Büşra Öz: boz@sabanciuniv.edu\n",
            "Mert Gürkan: mertgurkan@sabanciuniv.edu\n",
            "Hasan Alp Boz: bozhasan@sabanciuniv.edu\n"
          ],
          "name": "stdout"
        }
      ]
    },
    {
      "cell_type": "markdown",
      "metadata": {
        "id": "DwskSV1dAeoR"
      },
      "source": [
        "## Q2: Teaching Survey\n",
        "\n",
        "In a survey conducted by the student resources, each student was asked whether they think online or offline education is more effective. The student responses are recorded in a file named `teaching_survey.csv`. Each line contains the response of a particular student and contains her/his major alongside her answer separated by a comma.\n",
        "\n",
        "In total, we have 1020 students; 800 CS, 140 ME and 80 BIO students.\n",
        "\n",
        "![](https://i.ibb.co/p4JJq1h/ss.png)\n",
        "\n",
        "*Do not forget to add the shared file and then mount to your drive. Otherwise, you won't be able to read the file.*\n"
      ]
    },
    {
      "cell_type": "markdown",
      "metadata": {
        "id": "EJdIEenmj6W_"
      },
      "source": [
        "#### Part A\n",
        "\n",
        "Read the provided file and select 60 random student responses. Calculate the percentage of students in the sample that thinks online teaching is more effective.\n",
        "\n",
        "![](https://i.ibb.co/n0x1xFN/sample60.png)\n"
      ]
    },
    {
      "cell_type": "code",
      "metadata": {
        "id": "tbaryKClTz5Z",
        "outputId": "779ecd33-df75-45ab-a9b8-34f87123e63c",
        "colab": {
          "base_uri": "https://localhost:8080/",
          "height": 34
        }
      },
      "source": [
        "from google.colab import drive\n",
        "drive.mount(\"./drive/\", force_remount=True)"
      ],
      "execution_count": 99,
      "outputs": [
        {
          "output_type": "stream",
          "text": [
            "Mounted at ./drive/\n"
          ],
          "name": "stdout"
        }
      ]
    },
    {
      "cell_type": "code",
      "metadata": {
        "id": "NnRDeA3_SPi0",
        "outputId": "a390c979-5aa1-4f97-81d1-b6c64eb21b09",
        "colab": {
          "base_uri": "https://localhost:8080/",
          "height": 34
        }
      },
      "source": [
        "import random # In order to use random module, I imported it.\n",
        "\n",
        "with open('./drive/My Drive/teaching_survey.csv', 'r') as survey:\n",
        "  list1=survey.readlines() #contains string\n",
        "  liste=[] # later will contain lists\n",
        "  for i in list1:\n",
        "    indexx=i.find('\\n') # I do not want '\\n' in my string.\n",
        "    index1=list1.index(i)\n",
        "    i=i[:indexx] # I am getting rid of '\\n'.\n",
        "    list2=i.split(',') # Now, splitting the remaining string and putting 2 things into list2 variable. list2 becomes ['CS', 'online'] for the first line.\n",
        "    liste.append(list2)\n",
        "    list1[index1]=i\n",
        "  times=60 # How many random\n",
        "  list3=[] # Empty list, will be filled with new lists that will come from random.\n",
        "  random_numbers=[] # Empty list, will be filled with indices that will come from randint.\n",
        "  while(times>0):\n",
        "    if (random.randint(0, 1019) not in random_numbers):\n",
        "      random_numbers.append(random.randint(0, 1019)) # Index, namely unique.\n",
        "      times-=1\n",
        "  for randomnumber in random_numbers:\n",
        "    list3.append(liste[randomnumber])\n",
        "  for i in list3:\n",
        "    number=0 # Students in the sample that thinks online teaching is more effective.\n",
        "    if i[1]=='online':\n",
        "      number+=1\n",
        "  print(\"{} student(s) in the random sample think(s) that online teaching is more effective out of 60 random students. Percentage is %{}.\".format(number, number/60*100))"
      ],
      "execution_count": 119,
      "outputs": [
        {
          "output_type": "stream",
          "text": [
            "1 student(s) in the random sample think(s) that online teaching is more effective out of 60 random students. Percentage is %1.6666666666666667.\n"
          ],
          "name": "stdout"
        }
      ]
    },
    {
      "cell_type": "markdown",
      "metadata": {
        "id": "pIBUWMoXSSwr"
      },
      "source": [
        "#### Part B\n",
        "\n",
        "This time you will apply stratified sampling. Sample 20 student reponses  from each major (60 in total) and  then recalculate the percentage of students in the sample that thinks online teaching is more effective. Report this number. Do you see a diffference? Why is that? Do you think it is enough to draw a random sample once.\n",
        "\n",
        "\n",
        "\n",
        "![](https://i.ibb.co/6Fg0TtW/eqaul-Sample.png)"
      ]
    },
    {
      "cell_type": "code",
      "metadata": {
        "id": "laBFy2HkSXpC",
        "outputId": "bafcc977-be02-40b0-8abd-63b7c8ac8177",
        "colab": {
          "base_uri": "https://localhost:8080/",
          "height": 34
        }
      },
      "source": [
        "cslist=[]\n",
        "melist=[]\n",
        "biolist=[]\n",
        "for i in liste:\n",
        "  if i[0]=='BIO':\n",
        "    biolist.append(i)\n",
        "  elif i[0]=='CS':\n",
        "    cslist.append(i)\n",
        "  elif i[0]=='ME':\n",
        "    melist.append(i)\n",
        "\n",
        "list3=[] # This is from the cell above. Now it has to be empty because 60 random students will be selected via different method.\n",
        "random_numbers=[]\n",
        "thistime=20 # 20 from each\n",
        "\n",
        "while(thistime>0):\n",
        "  if (random.randint(0, 799) not in random_numbers):\n",
        "    random_numbers.append(random.randint(0, 799)) # Index, namely unique.\n",
        "    thistime-=1\n",
        "for randomnumber in random_numbers:\n",
        "  list3.append(cslist[randomnumber])\n",
        "\n",
        "random_numbers=[]\n",
        "thistime=20 # 20 from each\n",
        "\n",
        "while(thistime>0):\n",
        "  if (random.randint(0, 139) not in random_numbers):\n",
        "    random_numbers.append(random.randint(0, 139)) # Index, namely unique.\n",
        "    thistime-=1\n",
        "for randomnumber in random_numbers:\n",
        "  list3.append(melist[randomnumber])\n",
        "\n",
        "random_numbers=[]\n",
        "thistime=20 # 20 from each\n",
        "\n",
        "while(thistime>0):\n",
        "  if (random.randint(0, 79) not in random_numbers):\n",
        "    random_numbers.append(random.randint(0, 79)) # Index, namely unique.\n",
        "    thistime-=1\n",
        "for randomnumber in random_numbers:\n",
        "  list3.append(biolist[randomnumber])\n",
        "\n",
        "for i in list3:\n",
        "    number=0 # Students in the sample that thinks online teaching is more effective. Out of 60, 20 from each. Selected randomly.\n",
        "    if i[1]=='online':\n",
        "      number+=1\n",
        "print(\"{} student(s) in the random sample think(s) that online teaching is more effective out of 60 random students. Percentage is %{}.\".format(number, number/60*100))"
      ],
      "execution_count": 165,
      "outputs": [
        {
          "output_type": "stream",
          "text": [
            "1 student(s) in the random sample think(s) that online teaching is more effective out of 60 random students. Percentage is %1.6666666666666667.\n"
          ],
          "name": "stdout"
        }
      ]
    },
    {
      "cell_type": "markdown",
      "metadata": {
        "id": "HMa35yitTrzR"
      },
      "source": [
        "In my first trial, it is 0 student (%0). In my second trial it is 1 student (%1.6666666666666667) and yes, there is a difference. It stems from randomness. I don't think it is enough to draw a random sample once because the result changes when we draw more than once."
      ]
    },
    {
      "cell_type": "markdown",
      "metadata": {
        "id": "srIzF7eJYUAW"
      },
      "source": [
        "## Q3: List Reshaping\n",
        "\n",
        "List/array reshaping is one of the most fundamental operations in data manipulation. In the figure below, you see a single dimensional (1D) list named `arr` that contains integers from 1 to 6. We can cast this 1D list into a matrix as well. \n",
        "\n",
        "![](https://cdn.discordapp.com/attachments/715265876810530846/764191117067026472/list_to_matrix2.png)\n",
        "\n",
        "By referencing the figure above, write a function named `list_to_matrix` which will take a single dimensional list and two integers representing the shape of the desired matrix. At the end, it should return the resulting matrix.\n",
        "\n",
        "If the given number of rows and columns are not compatible with the number of elements, then print a warning and return `None`.\n",
        "\n",
        "```py\n",
        ">>> arr = [i for i in range(30)]\n",
        ">>> list_to_matrix(arr, 5, 6)\n",
        "[[0, 1, 2, 3, 4, 5],\n",
        " [6, 7, 8, 9, 10, 11],\n",
        " [12, 13, 14, 15, 16, 17],\n",
        " [18, 19, 20, 21, 22, 23],\n",
        " [24, 25, 26, 27, 28, 29]]\n",
        "\n",
        ">>> list_to_matrix(arr, 5, 4)  # will give a warning\n",
        "                               # because we can't place 30 elements\n",
        "                               # in a 5x4 matrix\n",
        "\"Uncompatible Shapes\"\n",
        "```"
      ]
    },
    {
      "cell_type": "code",
      "metadata": {
        "id": "iZgKbmvbZM61",
        "outputId": "bb834748-23f7-4191-ba4f-9c69e20fc3f7",
        "colab": {
          "base_uri": "https://localhost:8080/",
          "height": 51
        }
      },
      "source": [
        "arr = [i for i in range(30)]\n",
        "\n",
        "def list_to_matrix(array, rows, columns):\n",
        "  if rows*columns<len(array):\n",
        "    print(\"Uncompatible Shapes\")\n",
        "  else:\n",
        "    OuterList=[]\n",
        "    for i in range(rows):\n",
        "      InnerLists=[]\n",
        "      for j in range(columns):\n",
        "        InnerLists.append(columns*i+j)\n",
        "      OuterList.append(InnerLists)\n",
        "    print(OuterList)     \n",
        "\n",
        "list_to_matrix(arr, 5, 6)\n",
        "list_to_matrix(arr, 5, 4)"
      ],
      "execution_count": 133,
      "outputs": [
        {
          "output_type": "stream",
          "text": [
            "[[0, 1, 2, 3, 4, 5], [6, 7, 8, 9, 10, 11], [12, 13, 14, 15, 16, 17], [18, 19, 20, 21, 22, 23], [24, 25, 26, 27, 28, 29]]\n",
            "Uncompatible Shapes\n"
          ],
          "name": "stdout"
        }
      ]
    },
    {
      "cell_type": "markdown",
      "metadata": {
        "id": "_0FzjI4Li18J"
      },
      "source": [
        "## Q4: Longest Word in a File\n",
        "\n",
        "In the shared assignment folder, you have a file named `hamlet.txt` which stores the famous play written by William Shakespeare.\n",
        "\n",
        "Write a function named `longest_word` which will take a file name as it's single parameter and then reads and returns the longest word from that file.\n",
        "\n",
        "```py\n",
        ">>> longest_word(\"hamlet.txt\")\n",
        "```\n",
        "\n",
        "*Do not forget to add the shared file and then mount to your drive. Otherwise, you won't be able to read the file.*"
      ]
    },
    {
      "cell_type": "code",
      "metadata": {
        "id": "DEQOU3viZAfj",
        "outputId": "afb97a87-f963-4133-81ec-6af2f8a0a66c",
        "colab": {
          "base_uri": "https://localhost:8080/",
          "height": 34
        }
      },
      "source": [
        "def longest_word(filename):\n",
        "  with open(f'./drive/My Drive/{filename}', 'r') as f:\n",
        "     word=f.read().split()\n",
        "  TheLongestOne=len(max(word,key=len)) # using both len and max functions for easier solution.\n",
        "  return [k for k in word if TheLongestOne == len(k)] # List comprehension\n",
        "\n",
        "longest_word(\"hamlet.txt\")"
      ],
      "execution_count": 137,
      "outputs": [
        {
          "output_type": "execute_result",
          "data": {
            "text/plain": [
              "['tragical-comical-historical-pastoral;']"
            ]
          },
          "metadata": {
            "tags": []
          },
          "execution_count": 137
        }
      ]
    }
  ]
}