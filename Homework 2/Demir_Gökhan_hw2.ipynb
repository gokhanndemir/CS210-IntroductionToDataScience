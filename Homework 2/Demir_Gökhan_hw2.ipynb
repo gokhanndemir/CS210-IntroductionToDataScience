{
  "nbformat": 4,
  "nbformat_minor": 0,
  "metadata": {
    "kernelspec": {
      "display_name": "Python 3",
      "language": "python",
      "name": "python3"
    },
    "language_info": {
      "codemirror_mode": {
        "name": "ipython",
        "version": 3
      },
      "file_extension": ".py",
      "mimetype": "text/x-python",
      "name": "python",
      "nbconvert_exporter": "python",
      "pygments_lexer": "ipython3",
      "version": "3.6.7"
    },
    "colab": {
      "name": "Demir_Gökhan_hw2.ipynb",
      "provenance": [],
      "collapsed_sections": []
    }
  },
  "cells": [
    {
      "cell_type": "markdown",
      "metadata": {
        "id": "ldMgDPWh6KZJ"
      },
      "source": [
        "#Homework 2: Drug Side Effects\n",
        "\n",
        "*In the second homework, you are going to work with SIDER side effects dataset.*\n",
        "\n",
        "**Submission Instructions**\n",
        "\n",
        "---\n",
        "It is important that you follow the submission instructions. \n",
        "1. Copy this assignment notebook to your Drive. <font color = 'red'> `File` --> `Save a copy in Drive`</font>. Rename it as <font color = 'green'>`Lastname_Firstname_hw1`</font>.\n",
        "\n",
        "2. Write your solutions in the cells  marked <font color = 'green'>`# your code`</font>.\n",
        "\n",
        "3. Do not delete your outputs. They are essential for the grading. Make sure that cells containing your solutions are executed, and the results are displayed on the notebook.\n",
        "\n",
        "4. When you're done please submit your solutions as an <font color=\"red\">`.ipynb`</font> file. To do so:\n",
        "\n",
        "\n",
        "1.  Click on <font color=\"red\">`File`</font>  at the top left on the Colab screen, then click on <font color = 'red'>`Download .ipynb`</font>.\n",
        "2.   Then submit the downloaded <font color=\"red\">`.ipynb`</font> version of your work on SUCourse.\n",
        "\n",
        "\n",
        "For any question, you may send an email to the TAs and LAs.\n",
        "\n",
        "---"
      ]
    },
    {
      "cell_type": "markdown",
      "metadata": {
        "id": "pSp2PnhBSssR"
      },
      "source": [
        "In this homework, you will work on a dataset from [SIDER Side Effect Resource](http://sideeffects.embl.de/). SIDER contains information on marketed drugs and their recorded adverse drug reactions (ADR).\n",
        "\n",
        "For this homework, you will use the provided file `meddra_all_se.csv`. This is a modified and simplified version of the original dataset, which contains possible side effects of different drugs.\n",
        "<!-- This is not the original data file, we modified and eliminated some parts to make your work easier. -->\n",
        "\n",
        "As listed in their prospectives, drugs can cause some side effects besides their healing properties. This dataset simply contains entries of drugs and their potential side effects.\n",
        "\n",
        "In the dataset, each row has 4 attribute values separated with `,`. These attributes are described in the list below with their respective order in the dataset.\n",
        "\n",
        "\n",
        "  1.   **STITCH compound id:** Refers to ID of a particular drug \n",
        "\n",
        "  2.   **UMLS concept id:** Unified Medical Language System ID\n",
        "\n",
        "  3.   **UMLS concept id for MedDRA term** \n",
        "\n",
        "  4.   **Side effect name:** Contains the possible side effect entry.\n",
        "\n",
        "**You will consider the STITCH compound id as the id of a particular drug. Therefore, rows with the same STITCH compound id refer to possible side effects of the same particular drug.**\n",
        "\n",
        "A snapshot from the dataset containing three sample rows is also provided below.\n",
        "```\n",
        "...\n",
        "CID100000085,CID000010917,C0015230,Rash\n",
        "CID100000085,CID000010917,C0015397,Eye disorder\n",
        "CID100000085,CID000010917,C0015967,Body temperature increased\n",
        "\n",
        "...\n",
        "```\n",
        "\n",
        "*Do not forget to add the shared `meddra_all_se.csv` file to your drive and mount to your drive. Otherwise, you won't be able to read the file.*\n",
        "\n",
        "**!!!You are not allowed to use `pandas` in this homework**"
      ]
    },
    {
      "cell_type": "code",
      "metadata": {
        "id": "NQS682uLXZWr"
      },
      "source": [
        "import numpy as np\n",
        "import matplotlib.pyplot as plt\n",
        "from os.path import join\n",
        "\n",
        "%matplotlib inline"
      ],
      "execution_count": null,
      "outputs": []
    },
    {
      "cell_type": "code",
      "metadata": {
        "id": "8VzWuGps4xl_",
        "outputId": "14fa7d1f-5b9d-42f8-daee-f88ba82bed27",
        "colab": {
          "base_uri": "https://localhost:8080/"
        }
      },
      "source": [
        "from google.colab import drive\n",
        "drive.mount('./drive', force_remount=True)\n",
        "\n",
        "path_prefix = \"./drive/My Drive\""
      ],
      "execution_count": null,
      "outputs": [
        {
          "output_type": "stream",
          "text": [
            "Mounted at ./drive\n"
          ],
          "name": "stdout"
        }
      ]
    },
    {
      "cell_type": "markdown",
      "metadata": {
        "id": "K6GWzFj_rQ5J"
      },
      "source": [
        "## Q1: Descriptive Statistics of the Dataset\n",
        "\n",
        "In this question, your task is to gather some descriptive information about the dataset. To do this, first read the provided dataset and store it in a 2 dimensional numpy array. Then, print the listed descriptive statistics about the dataset.\n",
        "\n",
        "*   Shape of the dataset, i.e. number of rows and columns\n",
        "*   Number of unique drugs \n",
        "*   Number of unique side effects"
      ]
    },
    {
      "cell_type": "code",
      "metadata": {
        "id": "E6DY5jp3of5C",
        "outputId": "7458488a-b146-4e16-e681-25b01d70b690",
        "colab": {
          "base_uri": "https://localhost:8080/"
        }
      },
      "source": [
        "with open('./drive/My Drive/meddra_all_se.csv') as csvfile: # Opening and reading the file properly.\n",
        "  drugArray = np.genfromtxt(csvfile, delimiter=',', dtype=str) # My multi-dimensional variable.\n",
        "\n",
        "print(\"Shape of the dataset: \", drugArray.shape, sep='') # Printing the first wanted output(Number of rows and columns).\n",
        "(row, column) = drugArray.shape # Since drugArray.shape is a tuple, my row and column variables are in tuple too.\n",
        "\n",
        "liste=list() # It is empty now.\n",
        "for x in range(row):\n",
        "  liste.append(drugArray[x][0]) # Filling it.\n",
        "print('Number of unique drugs: ', len(np.unique(liste)), sep='') # Printing the second wanted output.\n",
        "\n",
        "sideEffectsList = list() # It is empty now.\n",
        "for y in range(row):\n",
        "  sideEffectsList.append(drugArray[y][3]) # Filling it.\n",
        "print('Number of unique side effects: ', len(np.unique(sideEffectsList)), sep='') # Printing the third wanted output.\n"
      ],
      "execution_count": 44,
      "outputs": [
        {
          "output_type": "stream",
          "text": [
            "Shape of the dataset: (91281, 4)\n",
            "Number of unique drugs: 953\n",
            "Number of unique side effects: 5064\n"
          ],
          "name": "stdout"
        }
      ]
    },
    {
      "cell_type": "markdown",
      "metadata": {
        "id": "QaM_N7VbvjNd"
      },
      "source": [
        "## Q2: Side Effects of Drugs"
      ]
    },
    {
      "cell_type": "markdown",
      "metadata": {
        "id": "rDTZdak-vBEF"
      },
      "source": [
        "### Part A \n",
        "\n",
        "As explained above, side effect entries in the dataset correspond to possible side effects of different drugs.\n",
        "\n",
        "In this part, your goal is to find the drug which has the most side effects in the dataset. <!-- Print the `drug id` *(STITCH compound id)* of that drug and `number of its indications`. --> Print the `drug id` *(STITCH compound id)* of that drug and print the number of possible side effects (indications) it has.\n",
        "\n",
        "Print your results in the following format.\n",
        "\n",
        "``` py\n",
        "drug id: CID100002771\n",
        "number of side effects: 766\n",
        "```\n",
        "\n",
        "\n"
      ]
    },
    {
      "cell_type": "code",
      "metadata": {
        "id": "HgNzsbgMvT_l",
        "outputId": "e05b013b-4998-4a44-f5f2-27942b39c224",
        "colab": {
          "base_uri": "https://localhost:8080/"
        }
      },
      "source": [
        "indexx=0\n",
        "NumberOfTimes = indexx\n",
        "which_has_the_most_side_effects = [\"drugid\", indexx] # List consists of string and number.\n",
        "altering = drugArray[indexx][indexx] # Zeroth row and column index of multidimensional drugArray.\n",
        "\n",
        "for eachh in range(row): # Iterating over rows.\n",
        "  if (drugArray[eachh][indexx]!=altering):\n",
        "    if (NumberOfTimes > which_has_the_most_side_effects[indexx+1]):\n",
        "      which_has_the_most_side_effects[indexx+1] = NumberOfTimes\n",
        "      which_has_the_most_side_effects[indexx] = altering\n",
        "      NumberOfTimes=indexx+1\n",
        "      altering=drugArray[eachh][indexx]\n",
        "    else:\n",
        "      NumberOfTimes=indexx+1\n",
        "      altering=drugArray[eachh][indexx]\n",
        "  else:\n",
        "    NumberOfTimes=NumberOfTimes+1\n",
        "\n",
        "print(\"drug id: \", which_has_the_most_side_effects[indexx], sep='')\n",
        "print(\"number of side effects: \", which_has_the_most_side_effects[indexx+1], sep='')"
      ],
      "execution_count": 50,
      "outputs": [
        {
          "output_type": "stream",
          "text": [
            "drug id: CID100002771\n",
            "number of side effects: 766\n"
          ],
          "name": "stdout"
        }
      ]
    },
    {
      "cell_type": "markdown",
      "metadata": {
        "id": "QB1vuzhZp1xt"
      },
      "source": [
        "### Part B \n",
        "\n",
        "Now, find the number of side effects for all drugs and display its distribution as an histogram.\n",
        "\n",
        "An exemplary figure can be observed below.\n",
        "\n",
        "![](https://i.ibb.co/7zPSnkR/hist.jpg)\n",
        "\n"
      ]
    },
    {
      "cell_type": "code",
      "metadata": {
        "id": "gByAdVaJvUz8"
      },
      "source": [
        "# your code"
      ],
      "execution_count": null,
      "outputs": []
    },
    {
      "cell_type": "markdown",
      "metadata": {
        "id": "0M6JfX5cp7Zv"
      },
      "source": [
        "## Q3: The Most Frequent Side Effects\n",
        "\n",
        "Here, you are going to analyze side effects that can be more commonly caused by drugs. \n",
        "\n",
        "Since we have a dataset of drugs and their potential side effects, one of the first question that comes to mind is to see the most common side effects of these drugs.\n",
        "\n",
        "*   Plot a `bar chart` to show most frequent 15 side effects of the dataset.\n",
        "\n",
        "![](https://i.ibb.co/Y8nQr3p/barh.jpg)\n",
        "\n",
        "*You can choose to make the bar chart with a different style, but the bars should look like the chart above.* \n"
      ]
    },
    {
      "cell_type": "code",
      "metadata": {
        "id": "prRpUH5bgSNi"
      },
      "source": [
        "# your code"
      ],
      "execution_count": null,
      "outputs": []
    },
    {
      "cell_type": "markdown",
      "metadata": {
        "id": "cpic0BLlp95Z"
      },
      "source": [
        "## Q4: Conditional Probability\n",
        "\n",
        "In Probability Theory, conditional probability is a measure of the probability of an event occurring, given that another event has already occurred. The formula for the conditional probability is shared below.\n",
        "\n",
        "```\n",
        "P(B|A) = P(A and B) / P(A)\n",
        "```\n",
        "\n",
        "As also suggested by our dataset, drugs can have multiple side effects. With the conditional probability, we can study the chances of a particular side effect with a given presence of another one.\n",
        "\n",
        "So, the following question can be answered with our dataset. \n",
        "\n",
        "**If a drug has `Headache` side effect, what is the probability it also has `Vomiting` side effect?**\n",
        "\n",
        "Please calculate this conditional probability from the dataset and report the resulting probability score."
      ]
    },
    {
      "cell_type": "code",
      "metadata": {
        "id": "a26lkrlt27qr"
      },
      "source": [
        "# your code"
      ],
      "execution_count": null,
      "outputs": []
    }
  ]
}